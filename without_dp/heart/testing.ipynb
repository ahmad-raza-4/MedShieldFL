{
 "cells": [
  {
   "cell_type": "code",
   "execution_count": null,
   "metadata": {},
   "outputs": [],
   "source": [
    "import torch\n",
    "from flamby.datasets.fed_heart_disease import FedHeartDisease\n",
    "\n",
    "def load_data(client_index: int):\n",
    "    train_dataset = FedHeartDisease(center=client_index, train=True)\n",
    "    test_dataset = FedHeartDisease(train=False)\n",
    "    trainloader = DataLoader(train_dataset, batch_size=PARAMS[\"batch_size\"])\n",
    "    testloader = DataLoader(test_dataset, batch_size=PARAMS[\"batch_size\"])\n",
    "    sample_rate = PARAMS[\"batch_size\"] / len(train_dataset)\n",
    "    return trainloader, testloader, sample_rate"
   ]
  },
  {
   "cell_type": "code",
   "execution_count": 6,
   "metadata": {},
   "outputs": [
    {
     "name": "stderr",
     "output_type": "stream",
     "text": [
      "Clipping input data to the valid range for imshow with RGB data ([0..1] for floats or [0..255] for integers).\n"
     ]
    },
    {
     "name": "stdout",
     "output_type": "stream",
     "text": [
      "Train Dataset - Labels: [[0.0], [0.0]]\n",
      "Image Sizes: [torch.Size([13]), torch.Size([13])]\n"
     ]
    },
    {
     "data": {
      "image/png": "[encoded data removed]",
      "text/plain": [
       "<Figure size 1000x500 with 1 Axes>"
      ]
     },
     "metadata": {},
     "output_type": "display_data"
    },
    {
     "name": "stderr",
     "output_type": "stream",
     "text": [
      "Clipping input data to the valid range for imshow with RGB data ([0..1] for floats or [0..255] for integers).\n"
     ]
    },
    {
     "name": "stdout",
     "output_type": "stream",
     "text": [
      "Test Dataset - Labels: [[0.0]]\n",
      "Image Sizes: [torch.Size([13])]\n"
     ]
    },
    {
     "data": {
      "image/png": "[encoded data removed]",
      "text/plain": [
       "<Figure size 1000x500 with 1 Axes>"
      ]
     },
     "metadata": {},
     "output_type": "display_data"
    }
   ],
   "source": [
    "import torch\n",
    "from torch.utils.data import DataLoader\n",
    "import matplotlib.pyplot as plt\n",
    "import torchvision\n",
    "import torchvision.transforms as transforms\n",
    "import numpy as np\n",
    "\n",
    "# Import the FedHeartDisease dataset\n",
    "from flamby.datasets.fed_heart_disease import FedHeartDisease\n",
    "\n",
    "# Define parameters\n",
    "PARAMS = {\n",
    "    \"batch_size\": 32,  # Adjust as needed\n",
    "    # Add other parameters if necessary\n",
    "}\n",
    "\n",
    "def load_data(client_index: int):\n",
    "    \"\"\"\n",
    "    Load training and testing data for a given client index.\n",
    "\n",
    "    Args:\n",
    "        client_index (int): The index of the client.\n",
    "\n",
    "    Returns:\n",
    "        tuple: (trainloader, testloader, sample_rate)\n",
    "    \"\"\"\n",
    "    # Initialize the datasets\n",
    "    train_dataset = FedHeartDisease(center=client_index, train=True)\n",
    "    test_dataset = FedHeartDisease(train=False)\n",
    "    \n",
    "    # Create DataLoaders\n",
    "    trainloader = DataLoader(train_dataset, batch_size=PARAMS[\"batch_size\"], shuffle=True)\n",
    "    testloader = DataLoader(test_dataset, batch_size=PARAMS[\"batch_size\"], shuffle=False)\n",
    "    \n",
    "    # Calculate sample rate (optional, based on your original code)\n",
    "    sample_rate = PARAMS[\"batch_size\"] / len(train_dataset)\n",
    "    \n",
    "    return trainloader, testloader, sample_rate\n",
    "\n",
    "def imshow(img, title=None):\n",
    "    \"\"\"\n",
    "    Display a tensor as an image.\n",
    "\n",
    "    Args:\n",
    "        img (Tensor): Image tensor.\n",
    "        title (str, optional): Title of the image. Defaults to None.\n",
    "    \"\"\"\n",
    "    img = img / 2 + 0.5  # Unnormalize if images were normalized\n",
    "    npimg = img.numpy()\n",
    "    plt.figure(figsize=(10, 5))\n",
    "    plt.imshow(np.transpose(npimg, (1, 2, 0)))\n",
    "    if title:\n",
    "        plt.title(title)\n",
    "    plt.axis('off')  # Hide axis\n",
    "    plt.show()\n",
    "\n",
    "def display_images(loader, dataset_type=\"Train\", num_images=10):\n",
    "    \"\"\"\n",
    "    Display a specified number of images from a DataLoader.\n",
    "\n",
    "    Args:\n",
    "        loader (DataLoader): DataLoader to fetch images from.\n",
    "        dataset_type (str, optional): Type of dataset (\"Train\" or \"Test\"). Defaults to \"Train\".\n",
    "        num_images (int, optional): Number of images to display. Defaults to 10.\n",
    "    \"\"\"\n",
    "    data_iter = iter(loader)\n",
    "    images, labels = next(data_iter)\n",
    "    \n",
    "    # Print labels and size of each image\n",
    "    print(f\"{dataset_type} Dataset - Labels: {labels[:num_images].tolist()}\")\n",
    "    print(f\"Image Sizes: {[img.size() for img in images[:num_images]]}\")\n",
    "    \n",
    "    # Check if the dataset returns images and labels\n",
    "    if isinstance(images, torch.Tensor):\n",
    "        # Select the first `num_images` images\n",
    "        images_to_show = images[:num_images]\n",
    "        \n",
    "        # Create a grid of images\n",
    "        grid = torchvision.utils.make_grid(images_to_show, nrow=5)\n",
    "        \n",
    "        # Display the images\n",
    "        imshow(grid, title=f\"{dataset_type} Dataset - First {num_images} Images with Labels: {labels[:num_images].tolist()}\")\n",
    "    else:\n",
    "        print(f\"The {dataset_type} dataset does not contain image data.\")\n",
    "\n",
    "\n",
    "def main():\n",
    "    # Specify the client index (adjust as needed)\n",
    "    client_index = 0\n",
    "    \n",
    "    # Load the data\n",
    "    trainloader, testloader, sample_rate = load_data(client_index)\n",
    "    \n",
    "    # Display images from the training dataset\n",
    "    display_images(trainloader, dataset_type=\"Train\", num_images=2)\n",
    "    \n",
    "    # Display images from the testing dataset\n",
    "    display_images(testloader, dataset_type=\"Test\", num_images=1)\n",
    "\n",
    "if __name__ == \"__main__\":\n",
    "    main()"
   ]
  },
  {
   "cell_type": "code",
   "execution_count": null,
   "metadata": {},
   "outputs": [],
   "source": []
  }
 ],
 "metadata": {
  "kernelspec": {
   "display_name": "ihpc",
   "language": "python",
   "name": "python3"
  },
  "language_info": {
   "codemirror_mode": {
    "name": "ipython",
    "version": 3
   },
   "file_extension": ".py",
   "mimetype": "text/x-python",
   "name": "python",
   "nbconvert_exporter": "python",
   "pygments_lexer": "ipython3",
   "version": "3.8.10"
  }
 },
 "nbformat": 4,
 "nbformat_minor": 2
}
